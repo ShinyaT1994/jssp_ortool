{
 "cells": [
  {
   "attachments": {},
   "cell_type": "markdown",
   "metadata": {},
   "source": [
    "# Job Shop Scheduling問題をOR-Toolで解いてみる\n",
    "https://developers.google.com/optimization/scheduling/job_shop?hl=ja"
   ]
  },
  {
   "cell_type": "code",
   "execution_count": 28,
   "metadata": {},
   "outputs": [
    {
     "name": "stdout",
     "output_type": "stream",
     "text": [
      "Requirement already satisfied: ortools in c:\\users\\uj39547\\desktop\\bpr\\規格品\\.venv\\lib\\site-packages (9.6.2534)"
     ]
    },
    {
     "name": "stderr",
     "output_type": "stream",
     "text": [
      "\n",
      "[notice] A new release of pip available: 22.3.1 -> 23.1.2\n",
      "[notice] To update, run: python.exe -m pip install --upgrade pip\n"
     ]
    },
    {
     "name": "stdout",
     "output_type": "stream",
     "text": [
      "\n",
      "Requirement already satisfied: numpy>=1.13.3 in c:\\users\\uj39547\\desktop\\bpr\\規格品\\.venv\\lib\\site-packages (from ortools) (1.24.3)\n",
      "Requirement already satisfied: protobuf>=4.21.12 in c:\\users\\uj39547\\desktop\\bpr\\規格品\\.venv\\lib\\site-packages (from ortools) (4.22.4)\n",
      "Requirement already satisfied: scipy>=1.10.0 in c:\\users\\uj39547\\desktop\\bpr\\規格品\\.venv\\lib\\site-packages (from ortools) (1.10.1)\n",
      "Requirement already satisfied: absl-py>=0.13 in c:\\users\\uj39547\\desktop\\bpr\\規格品\\.venv\\lib\\site-packages (from ortools) (1.4.0)\n"
     ]
    }
   ],
   "source": [
    "!pip install ortools"
   ]
  },
  {
   "cell_type": "code",
   "execution_count": 29,
   "metadata": {},
   "outputs": [],
   "source": [
    "import collections\n",
    "from ortools.sat.python import cp_model"
   ]
  },
  {
   "attachments": {},
   "cell_type": "markdown",
   "metadata": {},
   "source": [
    "### データの定義\n",
    "Machine: 3  \n",
    "Job: 5  \n",
    "の条件で最適化を実施する"
   ]
  },
  {
   "cell_type": "code",
   "execution_count": 30,
   "metadata": {},
   "outputs": [],
   "source": [
    "# Job情報\n",
    "jobs_data = [  # task = (machine_id, processing_time).\n",
    "    [(0, 3), (1, 2), (2, 2)],  # Job0\n",
    "    [(0, 2), (2, 1), (1, 4)],  # Job1\n",
    "    [(1, 4), (2, 3)],  # Job2\n",
    "    [(1, 2), (0, 1), (2, 4)],  # Job3\n",
    "    [(2, 1), (0, 2), (1, 1)],  # Job4\n",
    "]\n",
    "\n",
    "# Machineの数\n",
    "machines_count = 1 + max(task[0] for job in jobs_data for task in job)\n",
    "all_machines = range(machines_count)\n",
    "\n",
    "# Taskの合計時間\n",
    "horizon = sum(task[1] for job in jobs_data for task in job)"
   ]
  },
  {
   "attachments": {},
   "cell_type": "markdown",
   "metadata": {},
   "source": [
    "### モデルの作成"
   ]
  },
  {
   "cell_type": "code",
   "execution_count": 31,
   "metadata": {},
   "outputs": [],
   "source": [
    "# モデルの作成\n",
    "model = cp_model.CpModel()"
   ]
  },
  {
   "attachments": {},
   "cell_type": "markdown",
   "metadata": {},
   "source": [
    "### 変数の定義"
   ]
  },
  {
   "cell_type": "code",
   "execution_count": 32,
   "metadata": {},
   "outputs": [],
   "source": [
    "# Taskの種類\n",
    "task_type = collections.namedtuple('task_type', 'start end interval')\n",
    "\n",
    "# \n",
    "assigned_task_type = collections.namedtuple('assigned_task_type',\n",
    "                                            'start job index duration')\n",
    "\n",
    "# Creates job intervals and add to the corresponding machine lists.\n",
    "all_tasks = {}\n",
    "machine_to_intervals = collections.defaultdict(list)\n",
    "\n",
    "# 開始、終了、処理時間変数を作成\n",
    "for job_id, job in enumerate(jobs_data):\n",
    "    for task_id, task in enumerate(job):\n",
    "        machine = task[0]\n",
    "        duration = task[1]\n",
    "        suffix = '_%i_%i' % (job_id, task_id)\n",
    "        start_var = model.NewIntVar(0, horizon, 'start' + suffix)\n",
    "        end_var = model.NewIntVar(0, horizon, 'end' + suffix)\n",
    "        interval_var = model.NewIntervalVar(start_var, duration, end_var,\n",
    "                                            'interval' + suffix)\n",
    "        all_tasks[job_id, task_id] = task_type(start=start_var,\n",
    "                                               end=end_var,\n",
    "                                               interval=interval_var)\n",
    "        machine_to_intervals[machine].append(interval_var)"
   ]
  },
  {
   "attachments": {},
   "cell_type": "markdown",
   "metadata": {},
   "source": [
    "### 制約の定義"
   ]
  },
  {
   "cell_type": "code",
   "execution_count": 33,
   "metadata": {},
   "outputs": [],
   "source": [
    "# 重複無の制約を追加\n",
    "for machine in all_machines:\n",
    "    model.AddNoOverlap(machine_to_intervals[machine])\n",
    "\n",
    "# 実行順序の制約を追加\n",
    "for job_id, job in enumerate(jobs_data):\n",
    "    for task_id in range(len(job) - 1):\n",
    "        model.Add(all_tasks[job_id, task_id +\n",
    "                            1].start >= all_tasks[job_id, task_id].end)"
   ]
  },
  {
   "attachments": {},
   "cell_type": "markdown",
   "metadata": {},
   "source": [
    "### 目的関数の定義\n",
    "makespanを最小化する関数として定義する"
   ]
  },
  {
   "cell_type": "code",
   "execution_count": 34,
   "metadata": {},
   "outputs": [],
   "source": [
    "# 目的関数\n",
    "obj_var = model.NewIntVar(0, horizon, 'makespan')\n",
    "model.AddMaxEquality(obj_var, [\n",
    "    all_tasks[job_id, len(job) - 1].end\n",
    "    for job_id, job in enumerate(jobs_data)\n",
    "])\n",
    "model.Minimize(obj_var)"
   ]
  },
  {
   "attachments": {},
   "cell_type": "markdown",
   "metadata": {},
   "source": [
    "### ソルバーの呼び出し"
   ]
  },
  {
   "cell_type": "code",
   "execution_count": 35,
   "metadata": {},
   "outputs": [],
   "source": [
    "solver = cp_model.CpSolver()\n",
    "status = solver.Solve(model)"
   ]
  },
  {
   "attachments": {},
   "cell_type": "markdown",
   "metadata": {},
   "source": [
    "### 結果表示"
   ]
  },
  {
   "cell_type": "code",
   "execution_count": 36,
   "metadata": {},
   "outputs": [
    {
     "name": "stdout",
     "output_type": "stream",
     "text": [
      "Solution:\n",
      "Optimal Schedule Length: 57.0\n",
      "Machine 0: job_1_task_0   job_3_task_1   job_5_task_0   job_10_task_0  job_14_task_0  job_12_task_1  job_19_task_0  job_23_task_0  job_21_task_1  job_0_task_0   job_9_task_0   job_18_task_0  \n",
      "           [0,2]          [2,3]          [3,5]          [5,7]          [7,9]          [9,10]         [10,12]        [12,14]        [14,15]        [15,18]        [18,21]        [21,24]        \n",
      "Machine 1: job_2_task_0   job_4_task_2   job_1_task_2   job_8_task_2   job_13_task_2  job_5_task_2   job_17_task_2  job_22_task_2  job_10_task_2  job_26_task_2  job_0_task_1   job_9_task_1   job_18_task_1  job_11_task_0  job_14_task_2  job_19_task_2  job_20_task_0  job_23_task_2  \n",
      "           [0,4]          [4,5]          [5,9]          [9,10]         [10,11]        [11,15]        [15,16]        [16,17]        [17,21]        [21,22]        [22,24]        [24,26]        [26,28]        [28,32]        [32,36]        [36,40]        [40,44]        [44,48]        \n",
      "Machine 2: job_4_task_0   job_8_task_0   job_1_task_1   job_13_task_0  job_17_task_0  job_5_task_1   job_22_task_0  job_10_task_1  job_26_task_0  job_14_task_1  job_7_task_0   job_7_task_1   job_19_task_1  job_23_task_1  job_16_task_0  job_16_task_1  job_25_task_0  job_25_task_1  job_2_task_1   job_0_task_2   job_9_task_2   job_18_task_2  job_6_task_1   job_11_task_1  job_15_task_1  job_24_task_1  job_3_task_2   job_20_task_1  job_12_task_2  job_21_task_2  \n",
      "           [0,1]          [1,2]          [2,3]          [3,4]          [4,5]          [5,6]          [6,7]          [7,8]          [8,9]          [9,10]         [10,12]        [12,13]        [13,14]        [14,15]        [15,17]        [17,18]        [18,20]        [20,21]        [21,24]        [24,26]        [26,28]        [28,30]        [30,33]        [33,36]        [36,39]        [39,42]        [42,46]        [46,49]        [49,53]        [53,57]        \n",
      "Machine 3: job_3_task_0   job_4_task_1   job_8_task_1   job_12_task_0  job_13_task_1  job_17_task_1  job_21_task_0  job_22_task_1  job_26_task_1  job_6_task_0   job_7_task_2   job_15_task_0  job_16_task_2  job_24_task_0  job_25_task_2  \n",
      "           [0,2]          [2,4]          [4,6]          [6,8]          [8,10]         [10,12]        [12,14]        [14,16]        [16,18]        [18,22]        [22,26]        [26,30]        [30,34]        [34,38]        [38,42]        \n",
      "\n"
     ]
    }
   ],
   "source": [
    "if status == cp_model.OPTIMAL or status == cp_model.FEASIBLE:\n",
    "    print('Solution:')\n",
    "    # Create one list of assigned tasks per machine.\n",
    "    assigned_jobs = collections.defaultdict(list)\n",
    "    for job_id, job in enumerate(jobs_data):\n",
    "        for task_id, task in enumerate(job):\n",
    "            machine = task[0]\n",
    "            assigned_jobs[machine].append(\n",
    "                assigned_task_type(start=solver.Value(\n",
    "                    all_tasks[job_id, task_id].start),\n",
    "                                   job=job_id,\n",
    "                                   index=task_id,\n",
    "                                   duration=task[1]))\n",
    "\n",
    "    # Create per machine output lines.\n",
    "    output = ''\n",
    "    for machine in all_machines:\n",
    "        # Sort by starting time.\n",
    "        assigned_jobs[machine].sort()\n",
    "        sol_line_tasks = 'Machine ' + str(machine) + ': '\n",
    "        sol_line = '           '\n",
    "\n",
    "        for assigned_task in assigned_jobs[machine]:\n",
    "            name = 'job_%i_task_%i' % (assigned_task.job,\n",
    "                                       assigned_task.index)\n",
    "            # Add spaces to output to align columns.\n",
    "            sol_line_tasks += '%-15s' % name\n",
    "\n",
    "            start = assigned_task.start\n",
    "            duration = assigned_task.duration\n",
    "            sol_tmp = '[%i,%i]' % (start, start + duration)\n",
    "            # Add spaces to output to align columns.\n",
    "            sol_line += '%-15s' % sol_tmp\n",
    "\n",
    "        sol_line += '\\n'\n",
    "        sol_line_tasks += '\\n'\n",
    "        output += sol_line_tasks\n",
    "        output += sol_line\n",
    "\n",
    "    # Finally print the solution found.\n",
    "    print(f'Optimal Schedule Length: {solver.ObjectiveValue()}')\n",
    "    print(output)\n",
    "else:\n",
    "    print('No solution found.')"
   ]
  },
  {
   "cell_type": "code",
   "execution_count": null,
   "metadata": {},
   "outputs": [],
   "source": []
  }
 ],
 "metadata": {
  "kernelspec": {
   "display_name": ".venv",
   "language": "python",
   "name": "python3"
  },
  "language_info": {
   "codemirror_mode": {
    "name": "ipython",
    "version": 3
   },
   "file_extension": ".py",
   "mimetype": "text/x-python",
   "name": "python",
   "nbconvert_exporter": "python",
   "pygments_lexer": "ipython3",
   "version": "3.8.10"
  },
  "orig_nbformat": 4,
  "vscode": {
   "interpreter": {
    "hash": "c649e7ba30dd7d5805e2b5737edca229fb506e3e2577a869eca3cb6a12ad7501"
   }
  }
 },
 "nbformat": 4,
 "nbformat_minor": 2
}
